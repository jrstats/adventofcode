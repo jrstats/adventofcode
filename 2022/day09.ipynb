{
 "cells": [
  {
   "attachments": {},
   "cell_type": "markdown",
   "metadata": {},
   "source": [
    "# Day 9\n",
    "\n",
    "https://adventofcode.com/2022/day/9"
   ]
  },
  {
   "cell_type": "code",
   "execution_count": 3,
   "metadata": {},
   "outputs": [],
   "source": [
    "from read_data import get_data\n",
    "import numpy as np\n",
    "import re\n",
    "rope_movements = get_data(9)\n"
   ]
  },
  {
   "cell_type": "code",
   "execution_count": 27,
   "metadata": {},
   "outputs": [],
   "source": [
    "# rope_movements\n",
    "def translate_instruction(instruction):\n",
    "    re_match = re.search(u\"([A-Za-z]) (\\d+)\", instruction)\n",
    "    direction = re_match.group(1)\n",
    "    distance = int(re_match.group(2))\n",
    "\n",
    "    x = {\n",
    "        \"L\": -1,\n",
    "        \"R\": 1,\n",
    "        \"U\": 0,\n",
    "        \"D\": 0\n",
    "    }\n",
    "\n",
    "    y = {\n",
    "        \"L\": 0,\n",
    "        \"R\": 0,\n",
    "        \"U\": 1,\n",
    "        \"D\": -1\n",
    "    }\n",
    "\n",
    "    return x[direction]*distance, y[direction]*distance\n",
    "\n"
   ]
  },
  {
   "cell_type": "code",
   "execution_count": 29,
   "metadata": {},
   "outputs": [],
   "source": [
    "start = (0, 0)\n",
    "head = start\n",
    "tail = start\n",
    "\n",
    "\n",
    "instruction = \"L 6\"\n",
    "x, y = translate_instruction(instruction)"
   ]
  },
  {
   "cell_type": "code",
   "execution_count": 30,
   "metadata": {},
   "outputs": [
    {
     "data": {
      "text/plain": [
       "-6"
      ]
     },
     "execution_count": 30,
     "metadata": {},
     "output_type": "execute_result"
    }
   ],
   "source": [
    "x"
   ]
  },
  {
   "cell_type": "code",
   "execution_count": 40,
   "metadata": {},
   "outputs": [],
   "source": [
    "def move_tail(head, tail):\n",
    "    diff_x = head[0] - tail[0]\n",
    "    diff_y = head[1] - tail[1]\n",
    "\n",
    "    if (abs(diff_x) <= 1) and (abs(diff_y) <= 1):\n",
    "        return tail\n",
    "\n",
    "    try:\n",
    "        move_x = int(diff_x/abs(diff_x))\n",
    "    except ZeroDivisionError:\n",
    "        move_x = 0\n",
    "\n",
    "    try:\n",
    "        move_y = int(diff_y/abs(diff_y))\n",
    "    except ZeroDivisionError:\n",
    "        move_y = 0\n",
    "    \n",
    "    return (tail[0] + move_x, tail[1] + move_y)"
   ]
  },
  {
   "cell_type": "code",
   "execution_count": null,
   "metadata": {},
   "outputs": [],
   "source": [
    "def move_rope(head, tail, instruction):\n",
    "    x, y = translate_instruction(instruction)\n",
    "\n",
    "    for _ in range(abs(x)):\n",
    "        # move head x coordinate\n",
    "        head = (head[0] + x/abs(x), head[1])\n",
    "\n",
    "        # move tail\n",
    "        tail = move_tail(head, tail)"
   ]
  }
 ],
 "metadata": {
  "kernelspec": {
   "display_name": "Python 3.10.4 64-bit",
   "language": "python",
   "name": "python3"
  },
  "language_info": {
   "codemirror_mode": {
    "name": "ipython",
    "version": 3
   },
   "file_extension": ".py",
   "mimetype": "text/x-python",
   "name": "python",
   "nbconvert_exporter": "python",
   "pygments_lexer": "ipython3",
   "version": "3.10.4"
  },
  "orig_nbformat": 4,
  "vscode": {
   "interpreter": {
    "hash": "312bd82b6f348f4c0f526d4af3d3c204f0a362dc615e4f7857c9f8476dbdd730"
   }
  }
 },
 "nbformat": 4,
 "nbformat_minor": 2
}
